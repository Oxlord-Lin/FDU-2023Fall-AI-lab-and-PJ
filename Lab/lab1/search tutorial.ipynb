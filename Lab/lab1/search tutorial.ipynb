{
 "cells": [
  {
   "cell_type": "markdown",
   "metadata": {},
   "source": [
    "# Lab Tutorial\n",
    "\n",
    "## 1. Data Structure\n",
    "\n",
    "### 1.1 Define\n"
   ]
  },
  {
   "cell_type": "code",
   "execution_count": 2,
   "metadata": {
    "tags": []
   },
   "outputs": [
    {
     "name": "stdout",
     "output_type": "stream",
     "text": [
      "pq:  <__main__.PriorityQueue object at 0x000001C44C52CC90> \n",
      "pq.heap =  [] \n",
      "pq.count= 0\n"
     ]
    }
   ],
   "source": [
    "# utilize heapq\n",
    "# record nodes and priority\n",
    "\n",
    "import heapq\n",
    "\n",
    "class PriorityQueue:\n",
    "\n",
    "    def __init__(self):\n",
    "        self.heap = []\n",
    "        self.count = 0\n",
    "\n",
    "    def push(self, item, priority):\n",
    "        entry = (priority, self.count, item)\n",
    "        heapq.heappush(self.heap, entry)\n",
    "        self.count += 1\n",
    "\n",
    "    def pop(self):\n",
    "        (_, _, item) = heapq.heappop(self.heap)\n",
    "        return item\n",
    "\n",
    "    def isEmpty(self):\n",
    "        return len(self.heap) == 0\n",
    "\n",
    "    def update(self, item, priority):\n",
    "        # If item already in priority queue with higher priority, update its priority and rebuild the heap.\n",
    "        # If item already in priority queue with equal or lower priority, do nothing.\n",
    "        # If item not in priority queue, do the same thing as self.push.\n",
    "        # return True if this item is updated (priority changed or newly inserted), False if unchanged\n",
    "        for index, (p, c, i) in enumerate(self.heap):\n",
    "            if i == item:\n",
    "                if p <= priority:\n",
    "                    return False\n",
    "                del self.heap[index]\n",
    "                self.heap.append((priority, c, item))\n",
    "                heapq.heapify(self.heap)\n",
    "                return True\n",
    "        else:\n",
    "            self.push(item, priority)\n",
    "            return True\n",
    "        \n",
    "pq = PriorityQueue()\n",
    "print('pq: ',pq, '\\npq.heap = ',pq.heap, '\\npq.count=', pq.count)"
   ]
  },
  {
   "cell_type": "markdown",
   "metadata": {},
   "source": [
    "### 1.2 Push"
   ]
  },
  {
   "cell_type": "code",
   "execution_count": 3,
   "metadata": {
    "tags": []
   },
   "outputs": [
    {
     "name": "stdout",
     "output_type": "stream",
     "text": [
      "The original queue:\n",
      "[(0, 0, 'Start'), (4, 1, 'A'), (6, 2, 'B')]\n"
     ]
    }
   ],
   "source": [
    "pq.push(\"Start\", 0)\n",
    "pq.push(\"A\", 4)\n",
    "pq.push(\"B\", 6)\n",
    "print('The original queue:')\n",
    "print(pq.heap)"
   ]
  },
  {
   "cell_type": "markdown",
   "metadata": {},
   "source": [
    "### 1.3 Update"
   ]
  },
  {
   "cell_type": "code",
   "execution_count": 4,
   "metadata": {
    "tags": []
   },
   "outputs": [
    {
     "name": "stdout",
     "output_type": "stream",
     "text": [
      "Update an item which not in queue:\n",
      "[(0, 0, 'Start'), (4, 1, 'A'), (6, 2, 'B'), (8, 3, 'Goal')]\n",
      "Update an item with higher priority:\n",
      "[(0, 0, 'Start'), (2, 3, 'Goal'), (6, 2, 'B'), (4, 1, 'A')]\n",
      "Update an item with lower priority:\n",
      "[(0, 0, 'Start'), (2, 3, 'Goal'), (6, 2, 'B'), (4, 1, 'A')]\n"
     ]
    }
   ],
   "source": [
    "pq.update(\"Goal\", 8)\n",
    "print('Update an item which not in queue:')\n",
    "print(pq.heap)\n",
    "\n",
    "pq.update(\"Goal\", 2)\n",
    "print('Update an item with higher priority:')\n",
    "print(pq.heap)\n",
    "\n",
    "pq.update(\"Goal\", 8)\n",
    "print('Update an item with lower priority:')\n",
    "print(pq.heap)"
   ]
  },
  {
   "cell_type": "markdown",
   "metadata": {},
   "source": [
    "### 1.4 Pop"
   ]
  },
  {
   "cell_type": "code",
   "execution_count": 5,
   "metadata": {
    "tags": []
   },
   "outputs": [
    {
     "name": "stdout",
     "output_type": "stream",
     "text": [
      "Start\n",
      "Goal\n",
      "A\n",
      "B\n"
     ]
    }
   ],
   "source": [
    "while not(pq.isEmpty()):\n",
    "    print(pq.pop())"
   ]
  },
  {
   "cell_type": "markdown",
   "metadata": {},
   "source": [
    "## 2. I/O"
   ]
  },
  {
   "cell_type": "code",
   "execution_count": 13,
   "metadata": {
    "tags": []
   },
   "outputs": [
    {
     "ename": "FileNotFoundError",
     "evalue": "[Errno 2] No such file or directory: './testcases/input3.txt'",
     "output_type": "error",
     "traceback": [
      "\u001b[1;31m---------------------------------------------------------------------------\u001b[0m",
      "\u001b[1;31mFileNotFoundError\u001b[0m                         Traceback (most recent call last)",
      "\u001b[1;32md:\\大三上学习资料\\人工智能\\lab1\\lab1 材料\\search tutorial.ipynb 单元格 10\u001b[0m line \u001b[0;36m3\n\u001b[0;32m      <a href='vscode-notebook-cell:/d%3A/%E5%A4%A7%E4%B8%89%E4%B8%8A%E5%AD%A6%E4%B9%A0%E8%B5%84%E6%96%99/%E4%BA%BA%E5%B7%A5%E6%99%BA%E8%83%BD/lab1/lab1%20%E6%9D%90%E6%96%99/search%20tutorial.ipynb#X12sZmlsZQ%3D%3D?line=0'>1</a>\u001b[0m filename \u001b[39m=\u001b[39m \u001b[39m\"\u001b[39m\u001b[39m./testcases/input3.txt\u001b[39m\u001b[39m\"\u001b[39m\n\u001b[1;32m----> <a href='vscode-notebook-cell:/d%3A/%E5%A4%A7%E4%B8%89%E4%B8%8A%E5%AD%A6%E4%B9%A0%E8%B5%84%E6%96%99/%E4%BA%BA%E5%B7%A5%E6%99%BA%E8%83%BD/lab1/lab1%20%E6%9D%90%E6%96%99/search%20tutorial.ipynb#X12sZmlsZQ%3D%3D?line=2'>3</a>\u001b[0m \u001b[39mwith\u001b[39;00m \u001b[39mopen\u001b[39m(filename, \u001b[39m\"\u001b[39m\u001b[39mr\u001b[39m\u001b[39m\"\u001b[39m) \u001b[39mas\u001b[39;00m f:\n\u001b[0;32m      <a href='vscode-notebook-cell:/d%3A/%E5%A4%A7%E4%B8%89%E4%B8%8A%E5%AD%A6%E4%B9%A0%E8%B5%84%E6%96%99/%E4%BA%BA%E5%B7%A5%E6%99%BA%E8%83%BD/lab1/lab1%20%E6%9D%90%E6%96%99/search%20tutorial.ipynb#X12sZmlsZQ%3D%3D?line=3'>4</a>\u001b[0m     s \u001b[39m=\u001b[39m f\u001b[39m.\u001b[39mread()\u001b[39m.\u001b[39mstrip()\u001b[39m.\u001b[39msplit(\u001b[39m\"\u001b[39m\u001b[39m\\n\u001b[39;00m\u001b[39m\"\u001b[39m)\n\u001b[0;32m      <a href='vscode-notebook-cell:/d%3A/%E5%A4%A7%E4%B8%89%E4%B8%8A%E5%AD%A6%E4%B9%A0%E8%B5%84%E6%96%99/%E4%BA%BA%E5%B7%A5%E6%99%BA%E8%83%BD/lab1/lab1%20%E6%9D%90%E6%96%99/search%20tutorial.ipynb#X12sZmlsZQ%3D%3D?line=5'>6</a>\u001b[0m Actions \u001b[39m=\u001b[39m [item\u001b[39m.\u001b[39msplit() \u001b[39mfor\u001b[39;00m item \u001b[39min\u001b[39;00m s]\n",
      "File \u001b[1;32mf:\\anaconda3\\Lib\\site-packages\\IPython\\core\\interactiveshell.py:284\u001b[0m, in \u001b[0;36m_modified_open\u001b[1;34m(file, *args, **kwargs)\u001b[0m\n\u001b[0;32m    277\u001b[0m \u001b[39mif\u001b[39;00m file \u001b[39min\u001b[39;00m {\u001b[39m0\u001b[39m, \u001b[39m1\u001b[39m, \u001b[39m2\u001b[39m}:\n\u001b[0;32m    278\u001b[0m     \u001b[39mraise\u001b[39;00m \u001b[39mValueError\u001b[39;00m(\n\u001b[0;32m    279\u001b[0m         \u001b[39mf\u001b[39m\u001b[39m\"\u001b[39m\u001b[39mIPython won\u001b[39m\u001b[39m'\u001b[39m\u001b[39mt let you open fd=\u001b[39m\u001b[39m{\u001b[39;00mfile\u001b[39m}\u001b[39;00m\u001b[39m by default \u001b[39m\u001b[39m\"\u001b[39m\n\u001b[0;32m    280\u001b[0m         \u001b[39m\"\u001b[39m\u001b[39mas it is likely to crash IPython. If you know what you are doing, \u001b[39m\u001b[39m\"\u001b[39m\n\u001b[0;32m    281\u001b[0m         \u001b[39m\"\u001b[39m\u001b[39myou can use builtins\u001b[39m\u001b[39m'\u001b[39m\u001b[39m open.\u001b[39m\u001b[39m\"\u001b[39m\n\u001b[0;32m    282\u001b[0m     )\n\u001b[1;32m--> 284\u001b[0m \u001b[39mreturn\u001b[39;00m io_open(file, \u001b[39m*\u001b[39margs, \u001b[39m*\u001b[39m\u001b[39m*\u001b[39mkwargs)\n",
      "\u001b[1;31mFileNotFoundError\u001b[0m: [Errno 2] No such file or directory: './testcases/input3.txt'"
     ]
    }
   ],
   "source": [
    "filename = \"./testcases/input3.txt\"\n",
    "\n",
    "with open(filename, \"r\") as f:\n",
    "    s = f.read().strip().split(\"\\n\")\n",
    "    \n",
    "Actions = [item.split() for item in s]\n",
    "print(Actions[:-1])"
   ]
  },
  {
   "cell_type": "code",
   "execution_count": 14,
   "metadata": {},
   "outputs": [],
   "source": [
    "# visulize\n",
    "import networkx as nx\n",
    "import matplotlib.pyplot as plt\n",
    "import seaborn as sns\n",
    "%matplotlib inline\n",
    "sns.set()\n"
   ]
  },
  {
   "cell_type": "code",
   "execution_count": 16,
   "metadata": {
    "scrolled": false,
    "tags": []
   },
   "outputs": [
    {
     "ename": "NameError",
     "evalue": "name 'Actions' is not defined",
     "output_type": "error",
     "traceback": [
      "\u001b[1;31m---------------------------------------------------------------------------\u001b[0m",
      "\u001b[1;31mNameError\u001b[0m                                 Traceback (most recent call last)",
      "\u001b[1;32md:\\大三上学习资料\\人工智能\\lab1\\lab1 材料\\search tutorial.ipynb 单元格 12\u001b[0m line \u001b[0;36m1\n\u001b[1;32m----> <a href='vscode-notebook-cell:/d%3A/%E5%A4%A7%E4%B8%89%E4%B8%8A%E5%AD%A6%E4%B9%A0%E8%B5%84%E6%96%99/%E4%BA%BA%E5%B7%A5%E6%99%BA%E8%83%BD/lab1/lab1%20%E6%9D%90%E6%96%99/search%20tutorial.ipynb#X14sZmlsZQ%3D%3D?line=0'>1</a>\u001b[0m nodes \u001b[39m=\u001b[39m \u001b[39mset\u001b[39m([item[\u001b[39m0\u001b[39m] \u001b[39mfor\u001b[39;00m item \u001b[39min\u001b[39;00m Actions[:\u001b[39m-\u001b[39m\u001b[39m1\u001b[39m]] \u001b[39m+\u001b[39m [item[\u001b[39m1\u001b[39m] \u001b[39mfor\u001b[39;00m item \u001b[39min\u001b[39;00m Actions[:\u001b[39m-\u001b[39m\u001b[39m1\u001b[39m]])\n\u001b[0;32m      <a href='vscode-notebook-cell:/d%3A/%E5%A4%A7%E4%B8%89%E4%B8%8A%E5%AD%A6%E4%B9%A0%E8%B5%84%E6%96%99/%E4%BA%BA%E5%B7%A5%E6%99%BA%E8%83%BD/lab1/lab1%20%E6%9D%90%E6%96%99/search%20tutorial.ipynb#X14sZmlsZQ%3D%3D?line=1'>2</a>\u001b[0m edges \u001b[39m=\u001b[39m [(item[\u001b[39m0\u001b[39m], item[\u001b[39m1\u001b[39m], \u001b[39mint\u001b[39m(item[\u001b[39m2\u001b[39m])) \u001b[39mfor\u001b[39;00m item \u001b[39min\u001b[39;00m Actions[:\u001b[39m-\u001b[39m\u001b[39m1\u001b[39m]]\n\u001b[0;32m      <a href='vscode-notebook-cell:/d%3A/%E5%A4%A7%E4%B8%89%E4%B8%8A%E5%AD%A6%E4%B9%A0%E8%B5%84%E6%96%99/%E4%BA%BA%E5%B7%A5%E6%99%BA%E8%83%BD/lab1/lab1%20%E6%9D%90%E6%96%99/search%20tutorial.ipynb#X14sZmlsZQ%3D%3D?line=3'>4</a>\u001b[0m fig \u001b[39m=\u001b[39m plt\u001b[39m.\u001b[39mfigure()\n",
      "\u001b[1;31mNameError\u001b[0m: name 'Actions' is not defined"
     ]
    }
   ],
   "source": [
    "nodes = set([item[0] for item in Actions[:-1]] + [item[1] for item in Actions[:-1]])\n",
    "edges = [(item[0], item[1], int(item[2])) for item in Actions[:-1]]\n",
    "\n",
    "fig = plt.figure()\n",
    "ax = fig.add_subplot(1, 1, 1)\n",
    "G = nx.Graph()\n",
    "for node in nodes:\n",
    "    G.add_node(node)\n",
    "for edge in edges:\n",
    "    G.add_edge(edge[0], edge[1], weight=edge[2])\n",
    "    \n",
    "pos = nx.spring_layout(G)  # positions for all nodes\n",
    "weight = nx.get_edge_attributes(G, \"weight\")\n",
    "\n",
    "nx.draw_networkx_nodes(G, pos, node_size=1000)\n",
    "nx.draw_networkx_edges(G, pos, width=2)\n",
    "nx.draw_networkx_labels(G, pos, font_size=12, font_family='sans-serif')\n",
    "nx.draw_networkx_edge_labels(G, pos, weight)\n",
    "ax.grid(False)\n",
    "plt.show()"
   ]
  },
  {
   "cell_type": "code",
   "execution_count": null,
   "metadata": {},
   "outputs": [],
   "source": []
  }
 ],
 "metadata": {
  "kernelspec": {
   "display_name": "Python 3",
   "language": "python",
   "name": "python3"
  },
  "language_info": {
   "codemirror_mode": {
    "name": "ipython",
    "version": 3
   },
   "file_extension": ".py",
   "mimetype": "text/x-python",
   "name": "python",
   "nbconvert_exporter": "python",
   "pygments_lexer": "ipython3",
   "version": "3.11.4"
  }
 },
 "nbformat": 4,
 "nbformat_minor": 2
}
